{
 "cells": [
  {
   "cell_type": "code",
   "execution_count": 74,
   "id": "dd9d592f",
   "metadata": {},
   "outputs": [],
   "source": [
    "%matplotlib inline\n",
    "import matplotlib.pyplot as plt\n",
    "import seaborn as sns\n",
    "sns.set()\n",
    "import numpy as np\n",
    "import pandas as pd\n"
   ]
  },
  {
   "cell_type": "code",
   "execution_count": 75,
   "id": "7ce24d1a",
   "metadata": {},
   "outputs": [
    {
     "data": {
      "text/html": [
       "<div>\n",
       "<style scoped>\n",
       "    .dataframe tbody tr th:only-of-type {\n",
       "        vertical-align: middle;\n",
       "    }\n",
       "\n",
       "    .dataframe tbody tr th {\n",
       "        vertical-align: top;\n",
       "    }\n",
       "\n",
       "    .dataframe thead th {\n",
       "        text-align: right;\n",
       "    }\n",
       "</style>\n",
       "<table border=\"1\" class=\"dataframe\">\n",
       "  <thead>\n",
       "    <tr style=\"text-align: right;\">\n",
       "      <th></th>\n",
       "      <th>job_title</th>\n",
       "      <th>hh_title</th>\n",
       "      <th>age</th>\n",
       "      <th>salary</th>\n",
       "      <th>exp. period</th>\n",
       "      <th>title of exp.</th>\n",
       "    </tr>\n",
       "  </thead>\n",
       "  <tbody>\n",
       "    <tr>\n",
       "      <th>0</th>\n",
       "      <td>data analyst</td>\n",
       "      <td>Data analyst</td>\n",
       "      <td>22.0</td>\n",
       "      <td>0.0</td>\n",
       "      <td>2.67</td>\n",
       "      <td>Data Analyst</td>\n",
       "    </tr>\n",
       "    <tr>\n",
       "      <th>1</th>\n",
       "      <td>data analyst</td>\n",
       "      <td>Data Analyst</td>\n",
       "      <td>21.0</td>\n",
       "      <td>0.0</td>\n",
       "      <td>0.83</td>\n",
       "      <td>Junior Data Analyst</td>\n",
       "    </tr>\n",
       "    <tr>\n",
       "      <th>2</th>\n",
       "      <td>data analyst</td>\n",
       "      <td>Data Analyst</td>\n",
       "      <td>30.0</td>\n",
       "      <td>0.0</td>\n",
       "      <td>7.50</td>\n",
       "      <td>Data Analyst</td>\n",
       "    </tr>\n",
       "    <tr>\n",
       "      <th>3</th>\n",
       "      <td>data analyst</td>\n",
       "      <td>Data Analyst</td>\n",
       "      <td>24.0</td>\n",
       "      <td>0.0</td>\n",
       "      <td>4.92</td>\n",
       "      <td>Data Analyst</td>\n",
       "    </tr>\n",
       "    <tr>\n",
       "      <th>4</th>\n",
       "      <td>data analyst</td>\n",
       "      <td>Data Analyst</td>\n",
       "      <td>27.0</td>\n",
       "      <td>450000.0</td>\n",
       "      <td>3.25</td>\n",
       "      <td>Business Intelligence Analyst</td>\n",
       "    </tr>\n",
       "  </tbody>\n",
       "</table>\n",
       "</div>"
      ],
      "text/plain": [
       "      job_title      hh_title   age    salary  exp. period  \\\n",
       "0  data analyst  Data analyst  22.0       0.0         2.67   \n",
       "1  data analyst  Data Analyst  21.0       0.0         0.83   \n",
       "2  data analyst  Data Analyst  30.0       0.0         7.50   \n",
       "3  data analyst  Data Analyst  24.0       0.0         4.92   \n",
       "4  data analyst  Data Analyst  27.0  450000.0         3.25   \n",
       "\n",
       "                   title of exp.  \n",
       "0                   Data Analyst  \n",
       "1            Junior Data Analyst  \n",
       "2                   Data Analyst  \n",
       "3                   Data Analyst  \n",
       "4  Business Intelligence Analyst  "
      ]
     },
     "execution_count": 75,
     "metadata": {},
     "output_type": "execute_result"
    }
   ],
   "source": [
    "df = pd.read_csv('data.csv', encoding = 'Windows-1251').fillna(0)\n",
    "df.head()"
   ]
  },
  {
   "cell_type": "code",
   "execution_count": 76,
   "id": "64eab003",
   "metadata": {},
   "outputs": [
    {
     "name": "stdout",
     "output_type": "stream",
     "text": [
      "['job_title', 'hh_title', 'age', 'salary', 'exp. period', 'title of exp.']\n"
     ]
    }
   ],
   "source": [
    "print(list(df.columns))\n",
    "#['job_title', 'age', 'salary', 'exp. period']"
   ]
  },
  {
   "cell_type": "code",
   "execution_count": 77,
   "id": "d4e481a5",
   "metadata": {},
   "outputs": [
    {
     "data": {
      "text/html": [
       "<div>\n",
       "<style scoped>\n",
       "    .dataframe tbody tr th:only-of-type {\n",
       "        vertical-align: middle;\n",
       "    }\n",
       "\n",
       "    .dataframe tbody tr th {\n",
       "        vertical-align: top;\n",
       "    }\n",
       "\n",
       "    .dataframe thead th {\n",
       "        text-align: right;\n",
       "    }\n",
       "</style>\n",
       "<table border=\"1\" class=\"dataframe\">\n",
       "  <thead>\n",
       "    <tr style=\"text-align: right;\">\n",
       "      <th></th>\n",
       "      <th>job_title</th>\n",
       "      <th>age</th>\n",
       "      <th>salary</th>\n",
       "      <th>exp. period</th>\n",
       "    </tr>\n",
       "  </thead>\n",
       "  <tbody>\n",
       "    <tr>\n",
       "      <th>0</th>\n",
       "      <td>data analyst</td>\n",
       "      <td>22.0</td>\n",
       "      <td>0.0</td>\n",
       "      <td>2.67</td>\n",
       "    </tr>\n",
       "    <tr>\n",
       "      <th>1</th>\n",
       "      <td>data analyst</td>\n",
       "      <td>21.0</td>\n",
       "      <td>0.0</td>\n",
       "      <td>0.83</td>\n",
       "    </tr>\n",
       "    <tr>\n",
       "      <th>2</th>\n",
       "      <td>data analyst</td>\n",
       "      <td>30.0</td>\n",
       "      <td>0.0</td>\n",
       "      <td>7.50</td>\n",
       "    </tr>\n",
       "    <tr>\n",
       "      <th>3</th>\n",
       "      <td>data analyst</td>\n",
       "      <td>24.0</td>\n",
       "      <td>0.0</td>\n",
       "      <td>4.92</td>\n",
       "    </tr>\n",
       "    <tr>\n",
       "      <th>4</th>\n",
       "      <td>data analyst</td>\n",
       "      <td>27.0</td>\n",
       "      <td>450000.0</td>\n",
       "      <td>3.25</td>\n",
       "    </tr>\n",
       "  </tbody>\n",
       "</table>\n",
       "</div>"
      ],
      "text/plain": [
       "      job_title   age    salary  exp. period\n",
       "0  data analyst  22.0       0.0         2.67\n",
       "1  data analyst  21.0       0.0         0.83\n",
       "2  data analyst  30.0       0.0         7.50\n",
       "3  data analyst  24.0       0.0         4.92\n",
       "4  data analyst  27.0  450000.0         3.25"
      ]
     },
     "execution_count": 77,
     "metadata": {},
     "output_type": "execute_result"
    }
   ],
   "source": [
    "sdf = df.loc[:,['job_title', 'age', 'salary', 'exp. period']]\n",
    "sdf.head()"
   ]
  },
  {
   "cell_type": "code",
   "execution_count": 78,
   "id": "d4d3bed3",
   "metadata": {},
   "outputs": [
    {
     "data": {
      "text/html": [
       "<div>\n",
       "<style scoped>\n",
       "    .dataframe tbody tr th:only-of-type {\n",
       "        vertical-align: middle;\n",
       "    }\n",
       "\n",
       "    .dataframe tbody tr th {\n",
       "        vertical-align: top;\n",
       "    }\n",
       "\n",
       "    .dataframe thead th {\n",
       "        text-align: right;\n",
       "    }\n",
       "</style>\n",
       "<table border=\"1\" class=\"dataframe\">\n",
       "  <thead>\n",
       "    <tr style=\"text-align: right;\">\n",
       "      <th></th>\n",
       "      <th>age</th>\n",
       "      <th>salary</th>\n",
       "      <th>exp. period</th>\n",
       "    </tr>\n",
       "  </thead>\n",
       "  <tbody>\n",
       "    <tr>\n",
       "      <th>0</th>\n",
       "      <td>22.0</td>\n",
       "      <td>0.0</td>\n",
       "      <td>2.67</td>\n",
       "    </tr>\n",
       "    <tr>\n",
       "      <th>1</th>\n",
       "      <td>21.0</td>\n",
       "      <td>0.0</td>\n",
       "      <td>0.83</td>\n",
       "    </tr>\n",
       "    <tr>\n",
       "      <th>2</th>\n",
       "      <td>30.0</td>\n",
       "      <td>0.0</td>\n",
       "      <td>7.50</td>\n",
       "    </tr>\n",
       "    <tr>\n",
       "      <th>3</th>\n",
       "      <td>24.0</td>\n",
       "      <td>0.0</td>\n",
       "      <td>4.92</td>\n",
       "    </tr>\n",
       "    <tr>\n",
       "      <th>4</th>\n",
       "      <td>27.0</td>\n",
       "      <td>450000.0</td>\n",
       "      <td>3.25</td>\n",
       "    </tr>\n",
       "  </tbody>\n",
       "</table>\n",
       "</div>"
      ],
      "text/plain": [
       "    age    salary  exp. period\n",
       "0  22.0       0.0         2.67\n",
       "1  21.0       0.0         0.83\n",
       "2  30.0       0.0         7.50\n",
       "3  24.0       0.0         4.92\n",
       "4  27.0  450000.0         3.25"
      ]
     },
     "execution_count": 78,
     "metadata": {},
     "output_type": "execute_result"
    }
   ],
   "source": [
    "X = sdf.drop('job_title', axis=1)\n",
    "X.head()"
   ]
  },
  {
   "cell_type": "code",
   "execution_count": 79,
   "id": "fceb1771",
   "metadata": {},
   "outputs": [
    {
     "data": {
      "text/plain": [
       "0    data analyst\n",
       "1    data analyst\n",
       "2    data analyst\n",
       "3    data analyst\n",
       "4    data analyst\n",
       "Name: job_title, dtype: object"
      ]
     },
     "execution_count": 79,
     "metadata": {},
     "output_type": "execute_result"
    }
   ],
   "source": [
    "y=sdf['job_title']\n",
    "y.head()"
   ]
  },
  {
   "cell_type": "code",
   "execution_count": 80,
   "id": "8802602a",
   "metadata": {},
   "outputs": [],
   "source": [
    "from sklearn.model_selection import train_test_split\n",
    "Xtrain,Xtest,ytrain,ytest = train_test_split(X,y, train_size=0.8, stratify = y)"
   ]
  },
  {
   "cell_type": "code",
   "execution_count": 81,
   "id": "e631c77e",
   "metadata": {},
   "outputs": [
    {
     "data": {
      "text/plain": [
       "0.325"
      ]
     },
     "execution_count": 81,
     "metadata": {},
     "output_type": "execute_result"
    }
   ],
   "source": [
    "from sklearn.naive_bayes import GaussianNB\n",
    "model = GaussianNB()\n",
    "model.fit(Xtrain,ytrain)\n",
    "y_model = model.predict(Xtest)\n",
    "from sklearn.metrics import accuracy_score\n",
    "accuracy_score(ytest,y_model)"
   ]
  },
  {
   "cell_type": "code",
   "execution_count": 82,
   "id": "84ed6293",
   "metadata": {},
   "outputs": [
    {
     "data": {
      "text/plain": [
       "0.344"
      ]
     },
     "execution_count": 82,
     "metadata": {},
     "output_type": "execute_result"
    }
   ],
   "source": [
    "from sklearn.model_selection import cross_val_score\n",
    "b = cross_val_score(model,X,y, cv=10)\n",
    "b.mean()"
   ]
  },
  {
   "cell_type": "code",
   "execution_count": 83,
   "id": "d150e689",
   "metadata": {},
   "outputs": [
    {
     "data": {
      "text/plain": [
       "0.865"
      ]
     },
     "execution_count": 83,
     "metadata": {},
     "output_type": "execute_result"
    }
   ],
   "source": [
    "import warnings\n",
    "warnings.filterwarnings('ignore')\n",
    "from sklearn.neighbors import KNeighborsClassifier\n",
    "model_n = KNeighborsClassifier(n_neighbors = 3)\n",
    "model_n.fit(X,y)\n",
    "y1_model = model_n.predict(X)\n",
    "accuracy_score(y,y1_model)"
   ]
  },
  {
   "cell_type": "code",
   "execution_count": 84,
   "id": "d544008c",
   "metadata": {},
   "outputs": [
    {
     "data": {
      "text/plain": [
       "0.324"
      ]
     },
     "execution_count": 84,
     "metadata": {},
     "output_type": "execute_result"
    }
   ],
   "source": [
    "from sklearn.model_selection import LeaveOneOut\n",
    "a = cross_val_score(model,X,y, cv=LeaveOneOut())\n",
    "a.mean()"
   ]
  }
 ],
 "metadata": {
  "kernelspec": {
   "display_name": "Python 3 (ipykernel)",
   "language": "python",
   "name": "python3"
  },
  "language_info": {
   "codemirror_mode": {
    "name": "ipython",
    "version": 3
   },
   "file_extension": ".py",
   "mimetype": "text/x-python",
   "name": "python",
   "nbconvert_exporter": "python",
   "pygments_lexer": "ipython3",
   "version": "3.9.13"
  }
 },
 "nbformat": 4,
 "nbformat_minor": 5
}
